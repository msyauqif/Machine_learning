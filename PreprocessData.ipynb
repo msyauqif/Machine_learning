{
 "cells": [
  {
   "cell_type": "code",
   "execution_count": 8,
   "id": "c50e7b95-4d0f-4a81-9b5a-8c999a7fd640",
   "metadata": {},
   "outputs": [],
   "source": [
    "#IMPORT LIBRARY\n",
    "import numpy as np\n",
    "import pandas as pd\n",
    "import matplotlib.pyplot as plt\n",
    "import seaborn as sns"
   ]
  },
  {
   "cell_type": "code",
   "execution_count": 7,
   "id": "2e5d62ef-1557-4653-ad12-80341b7c440a",
   "metadata": {},
   "outputs": [],
   "source": [
    "df = pd.read_csv('botak.csv')"
   ]
  },
  {
   "cell_type": "code",
   "execution_count": 9,
   "id": "018820aa-33c7-4973-83d3-01a9df006716",
   "metadata": {},
   "outputs": [
    {
     "data": {
      "text/html": [
       "<div>\n",
       "<style scoped>\n",
       "    .dataframe tbody tr th:only-of-type {\n",
       "        vertical-align: middle;\n",
       "    }\n",
       "\n",
       "    .dataframe tbody tr th {\n",
       "        vertical-align: top;\n",
       "    }\n",
       "\n",
       "    .dataframe thead th {\n",
       "        text-align: right;\n",
       "    }\n",
       "</style>\n",
       "<table border=\"1\" class=\"dataframe\">\n",
       "  <thead>\n",
       "    <tr style=\"text-align: right;\">\n",
       "      <th></th>\n",
       "      <th>umur</th>\n",
       "      <th>jenis_kelamin</th>\n",
       "      <th>pekerjaan</th>\n",
       "      <th>provinsi</th>\n",
       "      <th>gaji</th>\n",
       "      <th>is_menikah</th>\n",
       "      <th>is_keturunan</th>\n",
       "      <th>berat</th>\n",
       "      <th>tinggi</th>\n",
       "      <th>sampo</th>\n",
       "      <th>is_merokok</th>\n",
       "      <th>pendidikan</th>\n",
       "      <th>botak_prob</th>\n",
       "    </tr>\n",
       "  </thead>\n",
       "  <tbody>\n",
       "    <tr>\n",
       "      <th>7986</th>\n",
       "      <td>31.0</td>\n",
       "      <td>Laki-laki</td>\n",
       "      <td>Pegawai swasta</td>\n",
       "      <td>Padang</td>\n",
       "      <td>2.911963e+07</td>\n",
       "      <td>0</td>\n",
       "      <td>0.0</td>\n",
       "      <td>83.272785</td>\n",
       "      <td>176.020857</td>\n",
       "      <td>Merpati</td>\n",
       "      <td>0</td>\n",
       "      <td>SMA</td>\n",
       "      <td>0.241525</td>\n",
       "    </tr>\n",
       "    <tr>\n",
       "      <th>7987</th>\n",
       "      <td>40.0</td>\n",
       "      <td>Perempuan</td>\n",
       "      <td>Pegawai swasta</td>\n",
       "      <td>Banjarmasin</td>\n",
       "      <td>8.955173e+06</td>\n",
       "      <td>0</td>\n",
       "      <td>0.0</td>\n",
       "      <td>61.634474</td>\n",
       "      <td>161.780773</td>\n",
       "      <td>Deadbuoy</td>\n",
       "      <td>0</td>\n",
       "      <td>S1</td>\n",
       "      <td>0.140971</td>\n",
       "    </tr>\n",
       "    <tr>\n",
       "      <th>7988</th>\n",
       "      <td>43.0</td>\n",
       "      <td>Perempuan</td>\n",
       "      <td>PNS</td>\n",
       "      <td>Mataram</td>\n",
       "      <td>4.022652e+06</td>\n",
       "      <td>0</td>\n",
       "      <td>0.0</td>\n",
       "      <td>50.525031</td>\n",
       "      <td>152.461656</td>\n",
       "      <td>Shoulder &amp; Head</td>\n",
       "      <td>1</td>\n",
       "      <td>S1</td>\n",
       "      <td>0.364456</td>\n",
       "    </tr>\n",
       "    <tr>\n",
       "      <th>7989</th>\n",
       "      <td>29.0</td>\n",
       "      <td>Laki-laki</td>\n",
       "      <td>Pegawai swasta</td>\n",
       "      <td>Serang</td>\n",
       "      <td>5.801753e+06</td>\n",
       "      <td>0</td>\n",
       "      <td>0.0</td>\n",
       "      <td>47.175270</td>\n",
       "      <td>152.749709</td>\n",
       "      <td>NaN</td>\n",
       "      <td>1</td>\n",
       "      <td>SMA</td>\n",
       "      <td>0.248910</td>\n",
       "    </tr>\n",
       "    <tr>\n",
       "      <th>7990</th>\n",
       "      <td>55.0</td>\n",
       "      <td>Laki-laki</td>\n",
       "      <td>Pegawai swasta</td>\n",
       "      <td>Padang</td>\n",
       "      <td>8.518947e+06</td>\n",
       "      <td>0</td>\n",
       "      <td>1.0</td>\n",
       "      <td>61.938728</td>\n",
       "      <td>163.998842</td>\n",
       "      <td>Merpati</td>\n",
       "      <td>1</td>\n",
       "      <td>SMA</td>\n",
       "      <td>0.838493</td>\n",
       "    </tr>\n",
       "  </tbody>\n",
       "</table>\n",
       "</div>"
      ],
      "text/plain": [
       "      umur jenis_kelamin       pekerjaan     provinsi          gaji  \\\n",
       "7986  31.0     Laki-laki  Pegawai swasta       Padang  2.911963e+07   \n",
       "7987  40.0     Perempuan  Pegawai swasta  Banjarmasin  8.955173e+06   \n",
       "7988  43.0     Perempuan             PNS      Mataram  4.022652e+06   \n",
       "7989  29.0     Laki-laki  Pegawai swasta       Serang  5.801753e+06   \n",
       "7990  55.0     Laki-laki  Pegawai swasta       Padang  8.518947e+06   \n",
       "\n",
       "      is_menikah  is_keturunan      berat      tinggi            sampo  \\\n",
       "7986           0           0.0  83.272785  176.020857          Merpati   \n",
       "7987           0           0.0  61.634474  161.780773         Deadbuoy   \n",
       "7988           0           0.0  50.525031  152.461656  Shoulder & Head   \n",
       "7989           0           0.0  47.175270  152.749709              NaN   \n",
       "7990           0           1.0  61.938728  163.998842          Merpati   \n",
       "\n",
       "      is_merokok pendidikan  botak_prob  \n",
       "7986           0        SMA    0.241525  \n",
       "7987           0         S1    0.140971  \n",
       "7988           1         S1    0.364456  \n",
       "7989           1        SMA    0.248910  \n",
       "7990           1        SMA    0.838493  "
      ]
     },
     "execution_count": 9,
     "metadata": {},
     "output_type": "execute_result"
    }
   ],
   "source": [
    "df.tail()"
   ]
  },
  {
   "cell_type": "code",
   "execution_count": 10,
   "id": "cb88c7f7-0f8b-4571-b728-aa7d90635145",
   "metadata": {},
   "outputs": [
    {
     "name": "stdout",
     "output_type": "stream",
     "text": [
      "<class 'pandas.core.frame.DataFrame'>\n",
      "RangeIndex: 7991 entries, 0 to 7990\n",
      "Data columns (total 13 columns):\n",
      " #   Column         Non-Null Count  Dtype  \n",
      "---  ------         --------------  -----  \n",
      " 0   umur           7991 non-null   float64\n",
      " 1   jenis_kelamin  7982 non-null   object \n",
      " 2   pekerjaan      7924 non-null   object \n",
      " 3   provinsi       7991 non-null   object \n",
      " 4   gaji           7968 non-null   float64\n",
      " 5   is_menikah     7991 non-null   int64  \n",
      " 6   is_keturunan   7976 non-null   float64\n",
      " 7   berat          7952 non-null   float64\n",
      " 8   tinggi         7991 non-null   float64\n",
      " 9   sampo          7934 non-null   object \n",
      " 10  is_merokok     7991 non-null   int64  \n",
      " 11  pendidikan     7991 non-null   object \n",
      " 12  botak_prob     7991 non-null   float64\n",
      "dtypes: float64(6), int64(2), object(5)\n",
      "memory usage: 811.7+ KB\n"
     ]
    }
   ],
   "source": [
    "df.info()"
   ]
  },
  {
   "cell_type": "code",
   "execution_count": 11,
   "id": "4713564c-f31d-4bef-97c0-fac66e703c9c",
   "metadata": {},
   "outputs": [
    {
     "data": {
      "text/html": [
       "<div>\n",
       "<style scoped>\n",
       "    .dataframe tbody tr th:only-of-type {\n",
       "        vertical-align: middle;\n",
       "    }\n",
       "\n",
       "    .dataframe tbody tr th {\n",
       "        vertical-align: top;\n",
       "    }\n",
       "\n",
       "    .dataframe thead th {\n",
       "        text-align: right;\n",
       "    }\n",
       "</style>\n",
       "<table border=\"1\" class=\"dataframe\">\n",
       "  <thead>\n",
       "    <tr style=\"text-align: right;\">\n",
       "      <th></th>\n",
       "      <th>umur</th>\n",
       "      <th>jenis_kelamin</th>\n",
       "      <th>pekerjaan</th>\n",
       "      <th>provinsi</th>\n",
       "      <th>gaji</th>\n",
       "      <th>is_menikah</th>\n",
       "      <th>is_keturunan</th>\n",
       "      <th>berat</th>\n",
       "      <th>tinggi</th>\n",
       "      <th>sampo</th>\n",
       "      <th>is_merokok</th>\n",
       "      <th>pendidikan</th>\n",
       "      <th>botak_prob</th>\n",
       "    </tr>\n",
       "  </thead>\n",
       "  <tbody>\n",
       "    <tr>\n",
       "      <th>2890</th>\n",
       "      <td>48.0</td>\n",
       "      <td>Laki-laki</td>\n",
       "      <td>PNS</td>\n",
       "      <td>Palangkaraya</td>\n",
       "      <td>1.205304e+07</td>\n",
       "      <td>0</td>\n",
       "      <td>0.0</td>\n",
       "      <td>54.167984</td>\n",
       "      <td>158.791203</td>\n",
       "      <td>Merpati</td>\n",
       "      <td>0</td>\n",
       "      <td>S1</td>\n",
       "      <td>0.365205</td>\n",
       "    </tr>\n",
       "    <tr>\n",
       "      <th>3900</th>\n",
       "      <td>48.0</td>\n",
       "      <td>Perempuan</td>\n",
       "      <td>PNS</td>\n",
       "      <td>Semarang</td>\n",
       "      <td>6.756616e+06</td>\n",
       "      <td>0</td>\n",
       "      <td>1.0</td>\n",
       "      <td>54.075169</td>\n",
       "      <td>159.147875</td>\n",
       "      <td>Moonsilk</td>\n",
       "      <td>0</td>\n",
       "      <td>SMP</td>\n",
       "      <td>0.459261</td>\n",
       "    </tr>\n",
       "    <tr>\n",
       "      <th>6708</th>\n",
       "      <td>40.0</td>\n",
       "      <td>Laki-laki</td>\n",
       "      <td>Pegawai swasta</td>\n",
       "      <td>Tanjungselor</td>\n",
       "      <td>7.146135e+06</td>\n",
       "      <td>0</td>\n",
       "      <td>0.0</td>\n",
       "      <td>52.589219</td>\n",
       "      <td>157.342619</td>\n",
       "      <td>Shoulder &amp; Head</td>\n",
       "      <td>1</td>\n",
       "      <td>S1</td>\n",
       "      <td>0.326823</td>\n",
       "    </tr>\n",
       "    <tr>\n",
       "      <th>1099</th>\n",
       "      <td>22.0</td>\n",
       "      <td>Laki-laki</td>\n",
       "      <td>PNS</td>\n",
       "      <td>Mataram</td>\n",
       "      <td>8.747817e+06</td>\n",
       "      <td>0</td>\n",
       "      <td>0.0</td>\n",
       "      <td>47.424232</td>\n",
       "      <td>157.043802</td>\n",
       "      <td>Deadbuoy</td>\n",
       "      <td>0</td>\n",
       "      <td>SMA</td>\n",
       "      <td>0.270735</td>\n",
       "    </tr>\n",
       "    <tr>\n",
       "      <th>6916</th>\n",
       "      <td>55.0</td>\n",
       "      <td>Laki-laki</td>\n",
       "      <td>PNS</td>\n",
       "      <td>Mataram</td>\n",
       "      <td>6.403562e+06</td>\n",
       "      <td>0</td>\n",
       "      <td>0.0</td>\n",
       "      <td>49.026781</td>\n",
       "      <td>163.980922</td>\n",
       "      <td>Pantone</td>\n",
       "      <td>1</td>\n",
       "      <td>SMP</td>\n",
       "      <td>0.671223</td>\n",
       "    </tr>\n",
       "  </tbody>\n",
       "</table>\n",
       "</div>"
      ],
      "text/plain": [
       "      umur jenis_kelamin       pekerjaan      provinsi          gaji  \\\n",
       "2890  48.0     Laki-laki             PNS  Palangkaraya  1.205304e+07   \n",
       "3900  48.0     Perempuan             PNS      Semarang  6.756616e+06   \n",
       "6708  40.0     Laki-laki  Pegawai swasta  Tanjungselor  7.146135e+06   \n",
       "1099  22.0     Laki-laki             PNS       Mataram  8.747817e+06   \n",
       "6916  55.0     Laki-laki             PNS       Mataram  6.403562e+06   \n",
       "\n",
       "      is_menikah  is_keturunan      berat      tinggi            sampo  \\\n",
       "2890           0           0.0  54.167984  158.791203          Merpati   \n",
       "3900           0           1.0  54.075169  159.147875         Moonsilk   \n",
       "6708           0           0.0  52.589219  157.342619  Shoulder & Head   \n",
       "1099           0           0.0  47.424232  157.043802         Deadbuoy   \n",
       "6916           0           0.0  49.026781  163.980922          Pantone   \n",
       "\n",
       "      is_merokok pendidikan  botak_prob  \n",
       "2890           0         S1    0.365205  \n",
       "3900           0        SMP    0.459261  \n",
       "6708           1         S1    0.326823  \n",
       "1099           0        SMA    0.270735  \n",
       "6916           1        SMP    0.671223  "
      ]
     },
     "execution_count": 11,
     "metadata": {},
     "output_type": "execute_result"
    }
   ],
   "source": [
    "df.sample(5)"
   ]
  },
  {
   "cell_type": "code",
   "execution_count": 12,
   "id": "f8670a7d-c6b2-44ff-865d-519beca32bf7",
   "metadata": {},
   "outputs": [
    {
     "data": {
      "text/plain": [
       "count    7991.000000\n",
       "mean       39.604805\n",
       "std        10.014420\n",
       "min         3.000000\n",
       "25%        33.000000\n",
       "50%        40.000000\n",
       "75%        46.000000\n",
       "max        78.000000\n",
       "Name: umur, dtype: float64"
      ]
     },
     "execution_count": 12,
     "metadata": {},
     "output_type": "execute_result"
    }
   ],
   "source": [
    "df['umur'].describe()"
   ]
  },
  {
   "cell_type": "code",
   "execution_count": 13,
   "id": "c6129bb5-3b64-40da-99f1-eaa29906ce88",
   "metadata": {},
   "outputs": [
    {
     "data": {
      "text/plain": [
       "count          7982\n",
       "unique            2\n",
       "top       Laki-laki\n",
       "freq           5342\n",
       "Name: jenis_kelamin, dtype: object"
      ]
     },
     "execution_count": 13,
     "metadata": {},
     "output_type": "execute_result"
    }
   ],
   "source": [
    "df['jenis_kelamin'].describe()"
   ]
  },
  {
   "cell_type": "code",
   "execution_count": 14,
   "id": "4ce552ec-6539-4280-a615-f52bc63a67f4",
   "metadata": {},
   "outputs": [
    {
     "data": {
      "text/plain": [
       "umur              0\n",
       "jenis_kelamin     9\n",
       "pekerjaan        67\n",
       "provinsi          0\n",
       "gaji             23\n",
       "is_menikah        0\n",
       "is_keturunan     15\n",
       "berat            39\n",
       "tinggi            0\n",
       "sampo            57\n",
       "is_merokok        0\n",
       "pendidikan        0\n",
       "botak_prob        0\n",
       "dtype: int64"
      ]
     },
     "execution_count": 14,
     "metadata": {},
     "output_type": "execute_result"
    }
   ],
   "source": [
    "df.isna().sum()"
   ]
  },
  {
   "cell_type": "code",
   "execution_count": 15,
   "id": "db9bf765-ba09-4f11-9bb8-3b3fdd3671a0",
   "metadata": {},
   "outputs": [],
   "source": [
    "# Mengisi nilai missing value dengan ketentuan:\n",
    "# Modus untuk data kategorik dan mean untuk data numerik\n",
    " \n",
    "from statistics import mode\n",
    " \n",
    "# Menghitung modus untuk data kategorik\n",
    "jenis_kelamin_mode = mode(df['jenis_kelamin'].dropna())\n",
    "pekerjaan_mode = mode(df['pekerjaan'].dropna())\n",
    "is_keturunan_mode = mode(df['is_keturunan'].dropna())\n",
    "sampo_mode = mode(df['sampo'].dropna())\n",
    " \n",
    "# Menghitung mean untuk data numerik\n",
    "berat_mean = df['berat'].mean()\n",
    "gaji_mean = df['gaji'].mean()\n",
    " \n",
    "# Daftar kolom yang memiliki nilai missing\n",
    "kolom_missing = ['jenis_kelamin', 'pekerjaan', \n",
    "                 'is_keturunan', 'berat', 'sampo', 'gaji']\n",
    " \n",
    "# Daftar nilai yang akan digunakan untuk mengisi missing values\n",
    "inputan = [jenis_kelamin_mode, pekerjaan_mode, \n",
    "           is_keturunan_mode, berat_mean, sampo_mode, gaji_mean]\n",
    " \n",
    "# Mengisi nilai missing dengan metode yang benar\n",
    "for kolom, nilai in zip(kolom_missing, inputan):\n",
    "    df[kolom] = df[kolom].fillna(nilai)"
   ]
  },
  {
   "cell_type": "code",
   "execution_count": 16,
   "id": "4536d77e-b3a2-4c1b-b250-1fab1765e6c9",
   "metadata": {},
   "outputs": [
    {
     "data": {
      "text/plain": [
       "umur             0\n",
       "jenis_kelamin    0\n",
       "pekerjaan        0\n",
       "provinsi         0\n",
       "gaji             0\n",
       "is_menikah       0\n",
       "is_keturunan     0\n",
       "berat            0\n",
       "tinggi           0\n",
       "sampo            0\n",
       "is_merokok       0\n",
       "pendidikan       0\n",
       "botak_prob       0\n",
       "dtype: int64"
      ]
     },
     "execution_count": 16,
     "metadata": {},
     "output_type": "execute_result"
    }
   ],
   "source": [
    "df.isna().sum()"
   ]
  },
  {
   "cell_type": "code",
   "execution_count": 18,
   "id": "8aac269c-3d73-4f4e-b31b-9e762e1b3a7f",
   "metadata": {},
   "outputs": [
    {
     "data": {
      "text/plain": [
       "np.int64(101)"
      ]
     },
     "execution_count": 18,
     "metadata": {},
     "output_type": "execute_result"
    }
   ],
   "source": [
    "#mengatasi duplicata data\n",
    "df.duplicated().sum()"
   ]
  },
  {
   "cell_type": "code",
   "execution_count": 20,
   "id": "c7805abf-b0c9-40d6-9ea6-dcf4a9c55607",
   "metadata": {},
   "outputs": [
    {
     "name": "stdout",
     "output_type": "stream",
     "text": [
      "<class 'pandas.core.frame.DataFrame'>\n",
      "Index: 7890 entries, 0 to 7989\n",
      "Data columns (total 13 columns):\n",
      " #   Column         Non-Null Count  Dtype  \n",
      "---  ------         --------------  -----  \n",
      " 0   umur           7890 non-null   float64\n",
      " 1   jenis_kelamin  7890 non-null   object \n",
      " 2   pekerjaan      7890 non-null   object \n",
      " 3   provinsi       7890 non-null   object \n",
      " 4   gaji           7890 non-null   float64\n",
      " 5   is_menikah     7890 non-null   int64  \n",
      " 6   is_keturunan   7890 non-null   float64\n",
      " 7   berat          7890 non-null   float64\n",
      " 8   tinggi         7890 non-null   float64\n",
      " 9   sampo          7890 non-null   object \n",
      " 10  is_merokok     7890 non-null   int64  \n",
      " 11  pendidikan     7890 non-null   object \n",
      " 12  botak_prob     7890 non-null   float64\n",
      "dtypes: float64(6), int64(2), object(5)\n",
      "memory usage: 863.0+ KB\n"
     ]
    }
   ],
   "source": [
    "df_hapus_duplikat = df.drop_duplicates()\n",
    "df_hapus_duplikat.info()"
   ]
  },
  {
   "cell_type": "markdown",
   "id": "a06b055b-1a67-4d22-95f9-31092aafb954",
   "metadata": {},
   "source": [
    "## Muhammad Syauqi FIrdaus 202332135"
   ]
  },
  {
   "cell_type": "code",
   "execution_count": null,
   "id": "0c110a7c-3ad2-47a2-8ccb-cc921027665d",
   "metadata": {},
   "outputs": [],
   "source": []
  }
 ],
 "metadata": {
  "kernelspec": {
   "display_name": "Python 3 (ipykernel)",
   "language": "python",
   "name": "python3"
  },
  "language_info": {
   "codemirror_mode": {
    "name": "ipython",
    "version": 3
   },
   "file_extension": ".py",
   "mimetype": "text/x-python",
   "name": "python",
   "nbconvert_exporter": "python",
   "pygments_lexer": "ipython3",
   "version": "3.13.2"
  }
 },
 "nbformat": 4,
 "nbformat_minor": 5
}
